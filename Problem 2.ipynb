{
 "cells": [
  {
   "cell_type": "markdown",
   "id": "cae20c50",
   "metadata": {},
   "source": [
    "## Data Processing and Visualization: Given a dataset containing information about students' test scores, fetch the data from an API, calculate the average score, and create a bar chart to visualize the data."
   ]
  },
  {
   "cell_type": "code",
   "execution_count": 1,
   "id": "ccf6d5ef",
   "metadata": {},
   "outputs": [],
   "source": [
    "import requests\n",
    "from bs4 import BeautifulSoup\n",
    "import csv\n",
    "import pandas as pd"
   ]
  },
  {
   "cell_type": "code",
   "execution_count": 2,
   "id": "6eba0dfe",
   "metadata": {},
   "outputs": [],
   "source": [
    "headers = {\n",
    "    'User-Agent': 'Mozilla/5.0 (Windows NT 10.0; Win64; x64) AppleWebKit/537.36 (KHTML, like Gecko) Chrome/80.0.3987.149 Safari/537.36'\n",
    "}\n",
    "\n",
    "# Make GET request with custom headers\n",
    "response = requests.get(\"https://roycekimmons.com/tools/generated_data/exams\", headers=headers).text\n",
    "#print(response)"
   ]
  },
  {
   "cell_type": "code",
   "execution_count": 3,
   "id": "5ec82cf9",
   "metadata": {},
   "outputs": [
    {
     "name": "stdout",
     "output_type": "stream",
     "text": [
      "CSV file 'student_scores.csv' created successfully.\n"
     ]
    }
   ],
   "source": [
    "soup = BeautifulSoup(response, 'html.parser')\n",
    "table = soup.find('table')\n",
    "\n",
    "# Initialize a list to store data\n",
    "data_list = []\n",
    "\n",
    "# Extract data from each row of the table\n",
    "for row in table.find_all('tr')[1:]:  # Skip the header row\n",
    "    columns = row.find_all('td')\n",
    "    \n",
    "    # Check if the row has enough columns\n",
    "    if len(columns) >= 8:\n",
    "        data = {\n",
    "            \"gender\": columns[0].get_text(strip=True),\n",
    "            \"math_score\": columns[5].get_text(strip=True),\n",
    "            \"reading_score\": columns[6].get_text(strip=True),\n",
    "            \"writing_score\": columns[7].get_text(strip=True),\n",
    "        }\n",
    "        data_list.append(data)\n",
    "\n",
    "# Define the CSV file path\n",
    "csv_file_path = \"student_scores.csv\"\n",
    "\n",
    "# Write data to CSV file\n",
    "with open(csv_file_path, mode='w', newline='') as file:\n",
    "    fieldnames = [\"gender\", \"math_score\", \"reading_score\", \"writing_score\"]\n",
    "    writer = csv.DictWriter(file, fieldnames=fieldnames)\n",
    "    \n",
    "    writer.writeheader()  # Write CSV header\n",
    "    for data in data_list:\n",
    "        writer.writerow(data)\n",
    "\n",
    "print(f\"CSV file '{csv_file_path}' created successfully.\")\n"
   ]
  },
  {
   "cell_type": "code",
   "execution_count": 4,
   "id": "cbe88ac3",
   "metadata": {},
   "outputs": [
    {
     "data": {
      "text/html": [
       "<div>\n",
       "<style scoped>\n",
       "    .dataframe tbody tr th:only-of-type {\n",
       "        vertical-align: middle;\n",
       "    }\n",
       "\n",
       "    .dataframe tbody tr th {\n",
       "        vertical-align: top;\n",
       "    }\n",
       "\n",
       "    .dataframe thead th {\n",
       "        text-align: right;\n",
       "    }\n",
       "</style>\n",
       "<table border=\"1\" class=\"dataframe\">\n",
       "  <thead>\n",
       "    <tr style=\"text-align: right;\">\n",
       "      <th></th>\n",
       "      <th>gender</th>\n",
       "      <th>math_score</th>\n",
       "      <th>reading_score</th>\n",
       "      <th>writing_score</th>\n",
       "    </tr>\n",
       "  </thead>\n",
       "  <tbody>\n",
       "    <tr>\n",
       "      <th>0</th>\n",
       "      <td>male</td>\n",
       "      <td>83</td>\n",
       "      <td>90</td>\n",
       "      <td>83</td>\n",
       "    </tr>\n",
       "    <tr>\n",
       "      <th>1</th>\n",
       "      <td>male</td>\n",
       "      <td>63</td>\n",
       "      <td>46</td>\n",
       "      <td>49</td>\n",
       "    </tr>\n",
       "    <tr>\n",
       "      <th>2</th>\n",
       "      <td>male</td>\n",
       "      <td>84</td>\n",
       "      <td>78</td>\n",
       "      <td>75</td>\n",
       "    </tr>\n",
       "    <tr>\n",
       "      <th>3</th>\n",
       "      <td>male</td>\n",
       "      <td>45</td>\n",
       "      <td>44</td>\n",
       "      <td>38</td>\n",
       "    </tr>\n",
       "    <tr>\n",
       "      <th>4</th>\n",
       "      <td>female</td>\n",
       "      <td>65</td>\n",
       "      <td>64</td>\n",
       "      <td>69</td>\n",
       "    </tr>\n",
       "    <tr>\n",
       "      <th>5</th>\n",
       "      <td>male</td>\n",
       "      <td>64</td>\n",
       "      <td>63</td>\n",
       "      <td>60</td>\n",
       "    </tr>\n",
       "    <tr>\n",
       "      <th>6</th>\n",
       "      <td>male</td>\n",
       "      <td>41</td>\n",
       "      <td>41</td>\n",
       "      <td>40</td>\n",
       "    </tr>\n",
       "    <tr>\n",
       "      <th>7</th>\n",
       "      <td>male</td>\n",
       "      <td>75</td>\n",
       "      <td>74</td>\n",
       "      <td>77</td>\n",
       "    </tr>\n",
       "    <tr>\n",
       "      <th>8</th>\n",
       "      <td>female</td>\n",
       "      <td>99</td>\n",
       "      <td>97</td>\n",
       "      <td>98</td>\n",
       "    </tr>\n",
       "    <tr>\n",
       "      <th>9</th>\n",
       "      <td>female</td>\n",
       "      <td>53</td>\n",
       "      <td>72</td>\n",
       "      <td>70</td>\n",
       "    </tr>\n",
       "  </tbody>\n",
       "</table>\n",
       "</div>"
      ],
      "text/plain": [
       "   gender  math_score  reading_score  writing_score\n",
       "0    male          83             90             83\n",
       "1    male          63             46             49\n",
       "2    male          84             78             75\n",
       "3    male          45             44             38\n",
       "4  female          65             64             69\n",
       "5    male          64             63             60\n",
       "6    male          41             41             40\n",
       "7    male          75             74             77\n",
       "8  female          99             97             98\n",
       "9  female          53             72             70"
      ]
     },
     "execution_count": 4,
     "metadata": {},
     "output_type": "execute_result"
    }
   ],
   "source": [
    "df = pd.read_csv('student_scores.csv')\n",
    "df"
   ]
  },
  {
   "cell_type": "code",
   "execution_count": 5,
   "id": "3ffe8be3",
   "metadata": {},
   "outputs": [
    {
     "ename": "NameError",
     "evalue": "name 'math_scores' is not defined",
     "output_type": "error",
     "traceback": [
      "\u001b[0;31m---------------------------------------------------------------------------\u001b[0m",
      "\u001b[0;31mNameError\u001b[0m                                 Traceback (most recent call last)",
      "Cell \u001b[0;32mIn[5], line 2\u001b[0m\n\u001b[1;32m      1\u001b[0m \u001b[38;5;66;03m# Calculate average scores\u001b[39;00m\n\u001b[0;32m----> 2\u001b[0m average_math_score \u001b[38;5;241m=\u001b[39m \u001b[38;5;28msum\u001b[39m(\u001b[43mmath_scores\u001b[49m) \u001b[38;5;241m/\u001b[39m \u001b[38;5;28mlen\u001b[39m(math_scores)\n\u001b[1;32m      3\u001b[0m average_reading_score \u001b[38;5;241m=\u001b[39m \u001b[38;5;28msum\u001b[39m(reading_scores) \u001b[38;5;241m/\u001b[39m \u001b[38;5;28mlen\u001b[39m(reading_scores)\n\u001b[1;32m      4\u001b[0m average_writing_score \u001b[38;5;241m=\u001b[39m \u001b[38;5;28msum\u001b[39m(writing_scores) \u001b[38;5;241m/\u001b[39m \u001b[38;5;28mlen\u001b[39m(writing_scores)\n",
      "\u001b[0;31mNameError\u001b[0m: name 'math_scores' is not defined"
     ]
    }
   ],
   "source": [
    "# Calculate average scores\n",
    "average_math_score = sum(math_scores) / len(math_scores)\n",
    "average_reading_score = sum(reading_scores) / len(reading_scores)\n",
    "average_writing_score = sum(writing_scores) / len(writing_scores)\n",
    "\n",
    "# Create bar chart\n",
    "categories = ['Math', 'Reading', 'Writing']\n",
    "average_scores = [average_math_score, average_reading_score, average_writing_score]\n",
    "\n",
    "plt.bar(categories, average_scores, color=['blue', 'green', 'orange'])\n",
    "plt.xlabel('Subject')\n",
    "plt.ylabel('Average Score')\n",
    "plt.title('Average Test Scores')\n",
    "plt.show()"
   ]
  },
  {
   "cell_type": "code",
   "execution_count": null,
   "id": "31f1eb99",
   "metadata": {},
   "outputs": [],
   "source": []
  }
 ],
 "metadata": {
  "kernelspec": {
   "display_name": "Python 3 (ipykernel)",
   "language": "python",
   "name": "python3"
  },
  "language_info": {
   "codemirror_mode": {
    "name": "ipython",
    "version": 3
   },
   "file_extension": ".py",
   "mimetype": "text/x-python",
   "name": "python",
   "nbconvert_exporter": "python",
   "pygments_lexer": "ipython3",
   "version": "3.9.18"
  }
 },
 "nbformat": 4,
 "nbformat_minor": 5
}
